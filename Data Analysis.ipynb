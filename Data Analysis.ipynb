{
 "cells": [
  {
   "cell_type": "code",
   "execution_count": 67,
   "id": "c870ffb8",
   "metadata": {},
   "outputs": [],
   "source": [
    "#To check for precedents\n",
    "import json\n",
    "with open('jsonformatter.txt', 'r') as f:\n",
    "    with open(\"Precedents output.txt\", 'w') as out:\n",
    "        data = json.load(f)\n",
    "\n",
    "        # print(type(data['label']))\n",
    "        for case in data:\n",
    "            out.write('Case id : ' + str(case['id']) + '\\n')\n",
    "            annotation = case['annotations'][0]\n",
    "            # print(annotation['result'])\n",
    "            for key in annotation['result']:\n",
    "                out.write(key['value']['labels'][0] + '\\n')\n",
    "\n",
    "            out.write(\"\\n\")"
   ]
  },
  {
   "cell_type": "code",
   "execution_count": 68,
   "metadata": {},
   "outputs": [],
   "source": [
    "#To check for precedents relied\n",
    "import json\n",
    "with open('jsonformatter.txt', 'r') as f:\n",
    "    with open(\"Precedents relied output.txt\", 'w') as out:\n",
    "        data = json.load(f)\n",
    "\n",
    "        for case in data:\n",
    "            out.write('Case id : ' + str(case['id']) + '\\n')\n",
    "            annotation = case['annotations'][0]\n",
    "            for key in annotation['result']:\n",
    "                if key['value']['labels'][0] == 'PRE_RELIED':\n",
    "                    out.write('PRE_RELIED : ' + key['value']['text'] + '\\n\\n')\n",
    "\n",
    "            out.write(\"\\n\")"
   ]
  },
  {
   "cell_type": "code",
   "execution_count": null,
   "id": "ea61b56d",
   "metadata": {},
   "outputs": [],
   "source": []
  }
 ],
 "metadata": {
  "kernelspec": {
   "display_name": "Python 3 (ipykernel)",
   "language": "python",
   "name": "python3"
  },
  "language_info": {
   "codemirror_mode": {
    "name": "ipython",
    "version": 3
   },
   "file_extension": ".py",
   "mimetype": "text/x-python",
   "name": "python",
   "nbconvert_exporter": "python",
   "pygments_lexer": "ipython3",
   "version": "3.8.13"
  }
 },
 "nbformat": 4,
 "nbformat_minor": 5
}
