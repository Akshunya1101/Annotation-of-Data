{
 "cells": [
  {
   "cell_type": "code",
   "execution_count": 69,
   "id": "c870ffb8",
   "metadata": {},
   "outputs": [],
   "source": [
    "#To check for precedents\n",
    "import json\n",
    "with open('jsonformatter.txt', 'r') as f:\n",
    "    with open(\"Precedents output.txt\", 'w') as out:\n",
    "        data = json.load(f)\n",
    "\n",
    "        # print(type(data['label']))\n",
    "        for case in data:\n",
    "            out.write('Case id : ' + str(case['id']) + '\\n')\n",
    "            annotation = case['annotations'][0]\n",
    "            # print(annotation['result'])\n",
    "            for key in annotation['result']:\n",
    "                # out.write(key['value']['labels'][0] + '\\n')\n",
    "                if key['value']['labels'][0] == 'STA':\n",
    "                    out.write('STA : ' + key['value']['text'] + '\\n\\n')\n",
    "\n",
    "            out.write(\"\\n\")"
   ]
  },
  {
   "cell_type": "code",
   "execution_count": 3,
   "metadata": {},
   "outputs": [],
   "source": [
    "#To check for precedents relied\n",
    "import json\n",
    "with open('jsonformatter.txt', 'r') as f:\n",
    "    with open(\"Precedents relied output.txt\", 'w') as out:\n",
    "        data = json.load(f)\n",
    "\n",
    "        for case in data:\n",
    "            out.write('Id : ' + str(case['id']) + '\\n')\n",
    "            annotation = case['annotations'][0]\n",
    "            for key in annotation['result']:\n",
    "                if key['value']['labels'][0] == 'PRE_RELIED':\n",
    "                    out.write('PRE_RELIED : ' + key['value']['text'] + '\\n\\n')\n",
    "\n",
    "            out.write(\"\\n\")"
   ]
  },
  {
   "cell_type": "code",
   "execution_count": 4,
   "id": "ea61b56d",
   "metadata": {},
   "outputs": [],
   "source": [
    "#To check for precedents not relied\n",
    "import json\n",
    "with open('jsonformatter.txt', 'r') as f:\n",
    "    with open(\"Precedents not relied output.txt\", 'w') as out:\n",
    "        data = json.load(f)\n",
    "\n",
    "        for case in data:\n",
    "            out.write('Id : ' + str(case['id']) + '\\n')\n",
    "            annotation = case['annotations'][0]\n",
    "            for key in annotation['result']:\n",
    "                if key['value']['labels'][0] == 'PRE_NOT_RELIED':\n",
    "                    out.write('PRE_NOT_RELIED : ' + key['value']['text'] + '\\n\\n')\n",
    "\n",
    "            out.write(\"\\n\")"
   ]
  },
  {
   "cell_type": "code",
   "execution_count": 25,
   "id": "42899f6b",
   "metadata": {},
   "outputs": [],
   "source": [
    "#To seperate the precedents on the keyword \"vs\" or \"v.\"\n",
    "\n",
    "import xml.etree.ElementTree as ET\n",
    "import os\n",
    "\n",
    "directory = 'Writ Petition'\n",
    "for filename in os.listdir(directory):\n",
    "    f = os.path.join(directory, filename)\n",
    "    mytree = ET.ElementTree(file= f)\n",
    "    myroot = mytree.getroot()\n",
    "\n",
    "    out_dir = directory+' precedents output'\n",
    "    out_file = os.path.join(out_dir, filename.replace(\".xml\", \" output.txt\"))\n",
    "    with open( out_file, 'w') as out:\n",
    "        for i in myroot:\n",
    "            if(i.tag=='JudgmentText'):\n",
    "                for legis in i:\n",
    "                    # out.write(\"Inside Judgement Text : \" + legis.tag + '\\n')\n",
    "                    if(legis.tag=='I'):\n",
    "                        for para in legis:\n",
    "                            if para.text is None:\n",
    "                                continue\n",
    "                            s = para.text.lower()\n",
    "                            if 'vs' in s or ' v. ' in s:  # \"\"\"'in the case' in s or 'that case' in s or\"\"\" \n",
    "                                out.write(\"Precedent : \" + para.text + '\\n\\n')\n",
    "\n",
    "                    elif(legis.tag=='P'):\n",
    "\n",
    "                        if legis.text is None:\n",
    "                            continue\n",
    "\n",
    "                        s = legis.text.lower()\n",
    "                        if 'vs' in s or ' v. ' in s:  # \"\"\"'in the case' in s or 'that case' in s or\"\"\" \n",
    "                            out.write(\"Precedent : \" + legis.text + '\\n\\n')"
   ]
  },
  {
   "cell_type": "code",
   "execution_count": null,
   "id": "2c078b9a",
   "metadata": {},
   "outputs": [],
   "source": []
  }
 ],
 "metadata": {
  "interpreter": {
   "hash": "916dbcbb3f70747c44a77c7bcd40155683ae19c65e1c03b4aa3499c5328201f1"
  },
  "kernelspec": {
   "display_name": "Python 3.8.10 64-bit",
   "language": "python",
   "name": "python3"
  },
  "language_info": {
   "codemirror_mode": {
    "name": "ipython",
    "version": 3
   },
   "file_extension": ".py",
   "mimetype": "text/x-python",
   "name": "python",
   "nbconvert_exporter": "python",
   "pygments_lexer": "ipython3",
   "version": "3.8.10"
  }
 },
 "nbformat": 4,
 "nbformat_minor": 5
}
